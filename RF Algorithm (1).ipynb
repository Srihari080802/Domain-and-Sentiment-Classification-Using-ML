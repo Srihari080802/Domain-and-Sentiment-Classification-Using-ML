{
 "cells": [
  {
   "cell_type": "code",
   "execution_count": 1,
   "id": "85c1e238",
   "metadata": {},
   "outputs": [],
   "source": [
    "#importing libraries\n",
    "import numpy as np\n",
    "import pandas as pd\n",
    "from sklearn.feature_extraction.text import CountVectorizer\n",
    "from sklearn.ensemble import RandomForestClassifier\n",
    "from sklearn.model_selection import train_test_split\n",
    "from sklearn.preprocessing import LabelEncoder\n",
    "import string\n",
    "import re"
   ]
  },
  {
   "cell_type": "code",
   "execution_count": 2,
   "id": "e20d051b",
   "metadata": {},
   "outputs": [],
   "source": [
    "# Load the labeled domain tweet data\n",
    "data_domain = pd.read_csv('C:/Users/dell/OneDrive/Desktop/dataset/Book2.csv')"
   ]
  },
  {
   "cell_type": "code",
   "execution_count": 3,
   "id": "5c30034f",
   "metadata": {},
   "outputs": [],
   "source": [
    "# Load the labeled sentiment tweet data\n",
    "data_sentiment = pd.read_csv('C:/Users/dell/OneDrive/Desktop/dataset/twitter_training.csv')"
   ]
  },
  {
   "cell_type": "code",
   "execution_count": 4,
   "id": "c55642fb",
   "metadata": {},
   "outputs": [],
   "source": [
    "# Data preprocessing for domain classification\n",
    "def preprocess_domain_data(data):\n",
    "    # Remove any rows with missing data\n",
    "    data.dropna(inplace=True)\n",
    "\n",
    "    # Encode the domain labels\n",
    "    le_domain = LabelEncoder()\n",
    "    data['domain_label'] = le_domain.fit_transform(data['Category'])\n",
    "\n",
    "    # Additional preprocessing steps\n",
    "    data['Tweets'] = data['Tweets'].apply(lambda x: x.lower())  # Lowercasing\n",
    "    data['Tweets'] = data['Tweets'].apply(lambda x: re.sub(r'http\\S+', '', x))  # Remove URLs\n",
    "    data['Tweets'] = data['Tweets'].apply(lambda x: re.sub(r'@[\\w_]+', '', x))  # Remove user mentions\n",
    "    data['Tweets'] = data['Tweets'].apply(lambda x: x.translate(str.maketrans('', '', string.punctuation)))  # Removing Punctuation\n",
    "\n",
    "    return data"
   ]
  },
  {
   "cell_type": "code",
   "execution_count": 5,
   "id": "ce7478ee",
   "metadata": {},
   "outputs": [],
   "source": [
    "# Data preprocessing for sentiment classification\n",
    "def preprocess_sentiment_data(data):\n",
    "    # Remove any rows with missing data\n",
    "    data.dropna(inplace=True)\n",
    "\n",
    "    # Encode the sentiment labels\n",
    "    le_sentiment = LabelEncoder()\n",
    "    data['sentiment_label'] = le_sentiment.fit_transform(data['Sentiment'])\n",
    "\n",
    "    # Additional preprocessing steps\n",
    "    data['Tweets'] = data['Tweets'].apply(lambda x: x.lower())  # Lowercasing\n",
    "    data['Tweets'] = data['Tweets'].apply(lambda x: re.sub(r'http\\S+', '', x))  # Remove URLs\n",
    "    data['Tweets'] = data['Tweets'].apply(lambda x: re.sub(r'@[\\w_]+', '', x))  # Remove user mentions\n",
    "    data['Tweets'] = data['Tweets'].apply(lambda x: x.translate(str.maketrans('', '', string.punctuation)))  # Removing Punctuation\n",
    "\n",
    "    return data"
   ]
  },
  {
   "cell_type": "code",
   "execution_count": 6,
   "id": "487010fc",
   "metadata": {},
   "outputs": [],
   "source": [
    "# Preprocess the domain data\n",
    "data_domain = preprocess_domain_data(data_domain)"
   ]
  },
  {
   "cell_type": "code",
   "execution_count": 7,
   "id": "ad222393",
   "metadata": {},
   "outputs": [],
   "source": [
    "# Split the domain data into training and testing sets\n",
    "X_domain = data_domain['Tweets']\n",
    "y_domain = data_domain['domain_label']"
   ]
  },
  {
   "cell_type": "code",
   "execution_count": 8,
   "id": "85803281",
   "metadata": {},
   "outputs": [],
   "source": [
    "X_train_domain, X_test_domain, y_train_domain, y_test_domain = train_test_split(X_domain, y_domain, test_size=0.2, random_state=42)"
   ]
  },
  {
   "cell_type": "code",
   "execution_count": 9,
   "id": "3a2fbfd9",
   "metadata": {},
   "outputs": [],
   "source": [
    "# Vectorize the text using CountVectorizer for domain classification\n",
    "vectorizer_domain = CountVectorizer()\n",
    "X_train_counts_domain = vectorizer_domain.fit_transform(X_train_domain)\n",
    "X_test_counts_domain = vectorizer_domain.transform(X_test_domain)\n"
   ]
  },
  {
   "cell_type": "code",
   "execution_count": 10,
   "id": "6b661ba4",
   "metadata": {},
   "outputs": [
    {
     "data": {
      "text/html": [
       "<style>#sk-container-id-1 {color: black;}#sk-container-id-1 pre{padding: 0;}#sk-container-id-1 div.sk-toggleable {background-color: white;}#sk-container-id-1 label.sk-toggleable__label {cursor: pointer;display: block;width: 100%;margin-bottom: 0;padding: 0.3em;box-sizing: border-box;text-align: center;}#sk-container-id-1 label.sk-toggleable__label-arrow:before {content: \"▸\";float: left;margin-right: 0.25em;color: #696969;}#sk-container-id-1 label.sk-toggleable__label-arrow:hover:before {color: black;}#sk-container-id-1 div.sk-estimator:hover label.sk-toggleable__label-arrow:before {color: black;}#sk-container-id-1 div.sk-toggleable__content {max-height: 0;max-width: 0;overflow: hidden;text-align: left;background-color: #f0f8ff;}#sk-container-id-1 div.sk-toggleable__content pre {margin: 0.2em;color: black;border-radius: 0.25em;background-color: #f0f8ff;}#sk-container-id-1 input.sk-toggleable__control:checked~div.sk-toggleable__content {max-height: 200px;max-width: 100%;overflow: auto;}#sk-container-id-1 input.sk-toggleable__control:checked~label.sk-toggleable__label-arrow:before {content: \"▾\";}#sk-container-id-1 div.sk-estimator input.sk-toggleable__control:checked~label.sk-toggleable__label {background-color: #d4ebff;}#sk-container-id-1 div.sk-label input.sk-toggleable__control:checked~label.sk-toggleable__label {background-color: #d4ebff;}#sk-container-id-1 input.sk-hidden--visually {border: 0;clip: rect(1px 1px 1px 1px);clip: rect(1px, 1px, 1px, 1px);height: 1px;margin: -1px;overflow: hidden;padding: 0;position: absolute;width: 1px;}#sk-container-id-1 div.sk-estimator {font-family: monospace;background-color: #f0f8ff;border: 1px dotted black;border-radius: 0.25em;box-sizing: border-box;margin-bottom: 0.5em;}#sk-container-id-1 div.sk-estimator:hover {background-color: #d4ebff;}#sk-container-id-1 div.sk-parallel-item::after {content: \"\";width: 100%;border-bottom: 1px solid gray;flex-grow: 1;}#sk-container-id-1 div.sk-label:hover label.sk-toggleable__label {background-color: #d4ebff;}#sk-container-id-1 div.sk-serial::before {content: \"\";position: absolute;border-left: 1px solid gray;box-sizing: border-box;top: 0;bottom: 0;left: 50%;z-index: 0;}#sk-container-id-1 div.sk-serial {display: flex;flex-direction: column;align-items: center;background-color: white;padding-right: 0.2em;padding-left: 0.2em;position: relative;}#sk-container-id-1 div.sk-item {position: relative;z-index: 1;}#sk-container-id-1 div.sk-parallel {display: flex;align-items: stretch;justify-content: center;background-color: white;position: relative;}#sk-container-id-1 div.sk-item::before, #sk-container-id-1 div.sk-parallel-item::before {content: \"\";position: absolute;border-left: 1px solid gray;box-sizing: border-box;top: 0;bottom: 0;left: 50%;z-index: -1;}#sk-container-id-1 div.sk-parallel-item {display: flex;flex-direction: column;z-index: 1;position: relative;background-color: white;}#sk-container-id-1 div.sk-parallel-item:first-child::after {align-self: flex-end;width: 50%;}#sk-container-id-1 div.sk-parallel-item:last-child::after {align-self: flex-start;width: 50%;}#sk-container-id-1 div.sk-parallel-item:only-child::after {width: 0;}#sk-container-id-1 div.sk-dashed-wrapped {border: 1px dashed gray;margin: 0 0.4em 0.5em 0.4em;box-sizing: border-box;padding-bottom: 0.4em;background-color: white;}#sk-container-id-1 div.sk-label label {font-family: monospace;font-weight: bold;display: inline-block;line-height: 1.2em;}#sk-container-id-1 div.sk-label-container {text-align: center;}#sk-container-id-1 div.sk-container {/* jupyter's `normalize.less` sets `[hidden] { display: none; }` but bootstrap.min.css set `[hidden] { display: none !important; }` so we also need the `!important` here to be able to override the default hidden behavior on the sphinx rendered scikit-learn.org. See: https://github.com/scikit-learn/scikit-learn/issues/21755 */display: inline-block !important;position: relative;}#sk-container-id-1 div.sk-text-repr-fallback {display: none;}</style><div id=\"sk-container-id-1\" class=\"sk-top-container\"><div class=\"sk-text-repr-fallback\"><pre>RandomForestClassifier(random_state=42)</pre><b>In a Jupyter environment, please rerun this cell to show the HTML representation or trust the notebook. <br />On GitHub, the HTML representation is unable to render, please try loading this page with nbviewer.org.</b></div><div class=\"sk-container\" hidden><div class=\"sk-item\"><div class=\"sk-estimator sk-toggleable\"><input class=\"sk-toggleable__control sk-hidden--visually\" id=\"sk-estimator-id-1\" type=\"checkbox\" checked><label for=\"sk-estimator-id-1\" class=\"sk-toggleable__label sk-toggleable__label-arrow\">RandomForestClassifier</label><div class=\"sk-toggleable__content\"><pre>RandomForestClassifier(random_state=42)</pre></div></div></div></div></div>"
      ],
      "text/plain": [
       "RandomForestClassifier(random_state=42)"
      ]
     },
     "execution_count": 10,
     "metadata": {},
     "output_type": "execute_result"
    }
   ],
   "source": [
    "# Create and train the Random Forest classifier for domain classification\n",
    "rf_classifier_domain = RandomForestClassifier(n_estimators=100, random_state=42)\n",
    "rf_classifier_domain.fit(X_train_counts_domain, y_train_domain)\n"
   ]
  },
  {
   "cell_type": "code",
   "execution_count": 11,
   "id": "89d70b49",
   "metadata": {},
   "outputs": [],
   "source": [
    "# Preprocess the sentiment data\n",
    "data_sentiment = preprocess_sentiment_data(data_sentiment)"
   ]
  },
  {
   "cell_type": "code",
   "execution_count": 12,
   "id": "6f8d9cf0",
   "metadata": {},
   "outputs": [],
   "source": [
    "# Split the sentiment data into training and testing sets\n",
    "X_sentiment = data_sentiment['Tweets']\n",
    "y_sentiment = data_sentiment['sentiment_label']\n",
    "\n",
    "X_train_sentiment, X_test_sentiment, y_train_sentiment, y_test_sentiment = train_test_split(X_sentiment, y_sentiment, test_size=0.2, random_state=42)\n"
   ]
  },
  {
   "cell_type": "code",
   "execution_count": 13,
   "id": "c6d1a6f8",
   "metadata": {},
   "outputs": [],
   "source": [
    "# Vectorize the text using CountVectorizer for sentiment classification\n",
    "vectorizer_sentiment = CountVectorizer()\n",
    "X_train_counts_sentiment = vectorizer_sentiment.fit_transform(X_train_sentiment)\n",
    "X_test_counts_sentiment = vectorizer_sentiment.transform(X_test_sentiment)"
   ]
  },
  {
   "cell_type": "code",
   "execution_count": 14,
   "id": "4dd445c6",
   "metadata": {},
   "outputs": [
    {
     "data": {
      "text/html": [
       "<style>#sk-container-id-2 {color: black;}#sk-container-id-2 pre{padding: 0;}#sk-container-id-2 div.sk-toggleable {background-color: white;}#sk-container-id-2 label.sk-toggleable__label {cursor: pointer;display: block;width: 100%;margin-bottom: 0;padding: 0.3em;box-sizing: border-box;text-align: center;}#sk-container-id-2 label.sk-toggleable__label-arrow:before {content: \"▸\";float: left;margin-right: 0.25em;color: #696969;}#sk-container-id-2 label.sk-toggleable__label-arrow:hover:before {color: black;}#sk-container-id-2 div.sk-estimator:hover label.sk-toggleable__label-arrow:before {color: black;}#sk-container-id-2 div.sk-toggleable__content {max-height: 0;max-width: 0;overflow: hidden;text-align: left;background-color: #f0f8ff;}#sk-container-id-2 div.sk-toggleable__content pre {margin: 0.2em;color: black;border-radius: 0.25em;background-color: #f0f8ff;}#sk-container-id-2 input.sk-toggleable__control:checked~div.sk-toggleable__content {max-height: 200px;max-width: 100%;overflow: auto;}#sk-container-id-2 input.sk-toggleable__control:checked~label.sk-toggleable__label-arrow:before {content: \"▾\";}#sk-container-id-2 div.sk-estimator input.sk-toggleable__control:checked~label.sk-toggleable__label {background-color: #d4ebff;}#sk-container-id-2 div.sk-label input.sk-toggleable__control:checked~label.sk-toggleable__label {background-color: #d4ebff;}#sk-container-id-2 input.sk-hidden--visually {border: 0;clip: rect(1px 1px 1px 1px);clip: rect(1px, 1px, 1px, 1px);height: 1px;margin: -1px;overflow: hidden;padding: 0;position: absolute;width: 1px;}#sk-container-id-2 div.sk-estimator {font-family: monospace;background-color: #f0f8ff;border: 1px dotted black;border-radius: 0.25em;box-sizing: border-box;margin-bottom: 0.5em;}#sk-container-id-2 div.sk-estimator:hover {background-color: #d4ebff;}#sk-container-id-2 div.sk-parallel-item::after {content: \"\";width: 100%;border-bottom: 1px solid gray;flex-grow: 1;}#sk-container-id-2 div.sk-label:hover label.sk-toggleable__label {background-color: #d4ebff;}#sk-container-id-2 div.sk-serial::before {content: \"\";position: absolute;border-left: 1px solid gray;box-sizing: border-box;top: 0;bottom: 0;left: 50%;z-index: 0;}#sk-container-id-2 div.sk-serial {display: flex;flex-direction: column;align-items: center;background-color: white;padding-right: 0.2em;padding-left: 0.2em;position: relative;}#sk-container-id-2 div.sk-item {position: relative;z-index: 1;}#sk-container-id-2 div.sk-parallel {display: flex;align-items: stretch;justify-content: center;background-color: white;position: relative;}#sk-container-id-2 div.sk-item::before, #sk-container-id-2 div.sk-parallel-item::before {content: \"\";position: absolute;border-left: 1px solid gray;box-sizing: border-box;top: 0;bottom: 0;left: 50%;z-index: -1;}#sk-container-id-2 div.sk-parallel-item {display: flex;flex-direction: column;z-index: 1;position: relative;background-color: white;}#sk-container-id-2 div.sk-parallel-item:first-child::after {align-self: flex-end;width: 50%;}#sk-container-id-2 div.sk-parallel-item:last-child::after {align-self: flex-start;width: 50%;}#sk-container-id-2 div.sk-parallel-item:only-child::after {width: 0;}#sk-container-id-2 div.sk-dashed-wrapped {border: 1px dashed gray;margin: 0 0.4em 0.5em 0.4em;box-sizing: border-box;padding-bottom: 0.4em;background-color: white;}#sk-container-id-2 div.sk-label label {font-family: monospace;font-weight: bold;display: inline-block;line-height: 1.2em;}#sk-container-id-2 div.sk-label-container {text-align: center;}#sk-container-id-2 div.sk-container {/* jupyter's `normalize.less` sets `[hidden] { display: none; }` but bootstrap.min.css set `[hidden] { display: none !important; }` so we also need the `!important` here to be able to override the default hidden behavior on the sphinx rendered scikit-learn.org. See: https://github.com/scikit-learn/scikit-learn/issues/21755 */display: inline-block !important;position: relative;}#sk-container-id-2 div.sk-text-repr-fallback {display: none;}</style><div id=\"sk-container-id-2\" class=\"sk-top-container\"><div class=\"sk-text-repr-fallback\"><pre>RandomForestClassifier(random_state=42)</pre><b>In a Jupyter environment, please rerun this cell to show the HTML representation or trust the notebook. <br />On GitHub, the HTML representation is unable to render, please try loading this page with nbviewer.org.</b></div><div class=\"sk-container\" hidden><div class=\"sk-item\"><div class=\"sk-estimator sk-toggleable\"><input class=\"sk-toggleable__control sk-hidden--visually\" id=\"sk-estimator-id-2\" type=\"checkbox\" checked><label for=\"sk-estimator-id-2\" class=\"sk-toggleable__label sk-toggleable__label-arrow\">RandomForestClassifier</label><div class=\"sk-toggleable__content\"><pre>RandomForestClassifier(random_state=42)</pre></div></div></div></div></div>"
      ],
      "text/plain": [
       "RandomForestClassifier(random_state=42)"
      ]
     },
     "execution_count": 14,
     "metadata": {},
     "output_type": "execute_result"
    }
   ],
   "source": [
    "# Create and train the Random Forest classifier for sentiment classification\n",
    "rf_classifier_sentiment = RandomForestClassifier(n_estimators=100, random_state=42)\n",
    "rf_classifier_sentiment.fit(X_train_counts_sentiment, y_train_sentiment)"
   ]
  },
  {
   "cell_type": "code",
   "execution_count": 24,
   "id": "89d6bc07",
   "metadata": {},
   "outputs": [],
   "source": [
    "\n",
    "# Example new tweets\n",
    "new_tweets = [\n",
    "    \"This flim is one of the best film i have seen in my life\",\n",
    "    \"I don't like this ai product.\",\n",
    "    \"It is just a normal game today.\"\n",
    "]\n"
   ]
  },
  {
   "cell_type": "code",
   "execution_count": 25,
   "id": "e0df4965",
   "metadata": {},
   "outputs": [],
   "source": [
    "# Input sentiment labels for the new tweets\n",
    "user_provided_sentiments = ['positive', 'negative', 'neutral']"
   ]
  },
  {
   "cell_type": "code",
   "execution_count": 26,
   "id": "93d1a6c1",
   "metadata": {},
   "outputs": [],
   "source": [
    "# Make predictions using the trained classifier for domain classification\n",
    "new_tweets_counts_domain = vectorizer_domain.transform(new_tweets)\n",
    "new_tweet_predictions_domain = rf_classifier_domain.predict(new_tweets_counts_domain)\n"
   ]
  },
  {
   "cell_type": "code",
   "execution_count": 27,
   "id": "34228b74",
   "metadata": {},
   "outputs": [],
   "source": [
    "# Map the numeric predictions to domain labels\n",
    "label_mapping_domain = {1: 'cinema', 2: 'sports', 4: 'technology'}\n",
    "predicted_labels_domain = [label_mapping_domain.get(prediction, 'unknown') for prediction in new_tweet_predictions_domain]\n"
   ]
  },
  {
   "cell_type": "code",
   "execution_count": 28,
   "id": "b0e2cea4",
   "metadata": {},
   "outputs": [],
   "source": [
    "# Map user-provided sentiment labels to numeric labels\n",
    "label_mapping_sentiment = {'negative': 0, 'neutral': 1, 'positive': 2} "
   ]
  },
  {
   "cell_type": "code",
   "execution_count": 29,
   "id": "e9be1a43",
   "metadata": {},
   "outputs": [],
   "source": [
    "# Make predictions using the trained classifier for sentiment classification\n",
    "new_tweets_counts_sentiment = vectorizer_sentiment.transform(new_tweets)\n",
    "new_tweet_predictions_sentiment = [label_mapping_sentiment[sentiment] for sentiment in user_provided_sentiments]\n"
   ]
  },
  {
   "cell_type": "code",
   "execution_count": 30,
   "id": "bd11bf96",
   "metadata": {
    "scrolled": true
   },
   "outputs": [
    {
     "name": "stdout",
     "output_type": "stream",
     "text": [
      "The given tweets are:\n",
      "['This flim is one of the best film i have seen in my life', \"I don't like this ai product.\", 'It is just a normal game today.']\n",
      "Tweet: This flim is one of the best film i have seen in my life\n",
      "Domain Label: cinema\n",
      "Sentiment: positive\n",
      "\n",
      "Tweet: I don't like this ai product.\n",
      "Domain Label: technology\n",
      "Sentiment: negative\n",
      "\n",
      "Tweet: It is just a normal game today.\n",
      "Domain Label: sports\n",
      "Sentiment: neutral\n",
      "\n"
     ]
    }
   ],
   "source": [
    "# Print the predictions with domain and sentiment labels\n",
    "print(\"The given tweets are:\")\n",
    "print(new_tweets)\n",
    "for tweet, domain_label, sentiment in zip(new_tweets, predicted_labels_domain, user_provided_sentiments):\n",
    "    print(f\"Tweet: {tweet}\\nDomain Label: {domain_label}\\nSentiment: {sentiment}\\n\")\n"
   ]
  },
  {
   "cell_type": "code",
   "execution_count": null,
   "id": "8cc19295",
   "metadata": {},
   "outputs": [],
   "source": []
  },
  {
   "cell_type": "code",
   "execution_count": 31,
   "id": "eb250e98",
   "metadata": {},
   "outputs": [
    {
     "name": "stdout",
     "output_type": "stream",
     "text": [
      "Domain Classification Metrics:\n",
      "Accuracy: 0.9358974358974359\n",
      "Precision: 0.9383955505279035\n",
      "Recall: 0.9358974358974359\n",
      "F1 Score: 0.9362215572692212\n",
      "\n",
      "Classification Report for Domain Classification:\n",
      "              precision    recall  f1-score   support\n",
      "\n",
      "      cinema       0.96      0.91      0.94        90\n",
      "      sports       0.88      0.96      0.92        78\n",
      "  technology       0.97      0.94      0.95        66\n",
      "\n",
      "    accuracy                           0.94       234\n",
      "   macro avg       0.94      0.94      0.94       234\n",
      "weighted avg       0.94      0.94      0.94       234\n",
      "\n",
      "\n",
      "Sentiment Classification Metrics:\n",
      "Accuracy: 0.9281032502196095\n",
      "Precision: 0.9289374416432975\n",
      "Recall: 0.9281032502196095\n",
      "F1 Score: 0.928074709069852\n",
      "\n",
      "Classification Report for Sentiment Classification:\n",
      "              precision    recall  f1-score   support\n",
      "\n",
      "    negative       0.95      0.91      0.93      4463\n",
      "     neutral       0.91      0.95      0.93      6213\n",
      "    positive       0.94      0.90      0.92      4123\n",
      "\n",
      "    accuracy                           0.93     14799\n",
      "   macro avg       0.93      0.92      0.93     14799\n",
      "weighted avg       0.93      0.93      0.93     14799\n",
      "\n"
     ]
    }
   ],
   "source": [
    "# Evaluate the performance of the classifiers\n",
    "\n",
    "from sklearn.metrics import accuracy_score, precision_score, recall_score, f1_score, classification_report\n",
    "\n",
    "# Domain classification performance metrics\n",
    "y_pred_domain = rf_classifier_domain.predict(X_test_counts_domain)\n",
    "accuracy_domain = accuracy_score(y_test_domain, y_pred_domain)\n",
    "precision_domain = precision_score(y_test_domain, y_pred_domain, average='weighted')\n",
    "recall_domain = recall_score(y_test_domain, y_pred_domain, average='weighted')\n",
    "f1_score_domain = f1_score(y_test_domain, y_pred_domain, average='weighted')\n",
    "\n",
    "# Generate target names based on unique class labels in y_test_domain\n",
    "target_names_domain = [label_mapping_domain[i] for i in np.unique(y_test_domain)]\n",
    "\n",
    "# Generate a classification report for domain classification\n",
    "report_domain = classification_report(y_test_domain, y_pred_domain, labels=np.unique(y_test_domain), target_names=target_names_domain)\n",
    "\n",
    "\n",
    "\n",
    "# Sentiment classification performance metrics\n",
    "y_pred_sentiment = rf_classifier_sentiment.predict(X_test_counts_sentiment)\n",
    "accuracy_sentiment = accuracy_score(y_test_sentiment, y_pred_sentiment)\n",
    "precision_sentiment = precision_score(y_test_sentiment, y_pred_sentiment, average='weighted')\n",
    "recall_sentiment = recall_score(y_test_sentiment, y_pred_sentiment, average='weighted')\n",
    "f1_score_sentiment = f1_score(y_test_sentiment, y_pred_sentiment, average='weighted')\n",
    "\n",
    "# Generate target names based on label_mapping_sentiment\n",
    "target_names_sentiment = list(label_mapping_sentiment.keys())\n",
    "\n",
    "\n",
    "# Generate a classification report for sentiment classification\n",
    "report_sentiment = classification_report(y_test_sentiment, y_pred_sentiment, labels=np.unique(y_test_sentiment), target_names=target_names_sentiment)\n",
    "\n",
    "\n",
    "# Print performance metrics for domain classification\n",
    "print(\"Domain Classification Metrics:\")\n",
    "print(f\"Accuracy: {accuracy_domain}\")\n",
    "print(f\"Precision: {precision_domain}\")\n",
    "print(f\"Recall: {recall_domain}\")\n",
    "print(f\"F1 Score: {f1_score_domain}\")\n",
    "print(\"\\nClassification Report for Domain Classification:\")\n",
    "print(report_domain)\n",
    "\n",
    "# Print performance metrics for sentiment classification\n",
    "print(\"\\nSentiment Classification Metrics:\")\n",
    "print(f\"Accuracy: {accuracy_sentiment}\")\n",
    "print(f\"Precision: {precision_sentiment}\")\n",
    "print(f\"Recall: {recall_sentiment}\")\n",
    "print(f\"F1 Score: {f1_score_sentiment}\")\n",
    "print(\"\\nClassification Report for Sentiment Classification:\")\n",
    "print(report_sentiment)\n"
   ]
  },
  {
   "cell_type": "code",
   "execution_count": null,
   "id": "16a1af52",
   "metadata": {},
   "outputs": [],
   "source": []
  }
 ],
 "metadata": {
  "kernelspec": {
   "display_name": "Python 3 (ipykernel)",
   "language": "python",
   "name": "python3"
  },
  "language_info": {
   "codemirror_mode": {
    "name": "ipython",
    "version": 3
   },
   "file_extension": ".py",
   "mimetype": "text/x-python",
   "name": "python",
   "nbconvert_exporter": "python",
   "pygments_lexer": "ipython3",
   "version": "3.11.4"
  }
 },
 "nbformat": 4,
 "nbformat_minor": 5
}

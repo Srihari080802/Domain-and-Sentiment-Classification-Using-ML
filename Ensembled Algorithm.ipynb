{
 "cells": [
  {
   "cell_type": "code",
   "execution_count": 56,
   "id": "7e07c611",
   "metadata": {},
   "outputs": [
    {
     "name": "stdout",
     "output_type": "stream",
     "text": [
      "Naive Bayes Accuracy (Sentiment): 0.8068356593563087\n",
      "Random Forest Accuracy (Sentiment): 0.9648533181429793\n",
      "SVM Accuracy (Sentiment): 0.9201936770150955\n",
      "Random Forest Accuracy (Domain): 0.9447236180904522\n",
      "Naive Bayes Accuracy (Domain): 0.9095477386934674\n",
      "SVM Accuracy (Domain): 0.9447236180904522\n"
     ]
    }
   ],
   "source": [
    "import pandas as pd\n",
    "from imblearn.over_sampling import RandomOverSampler\n",
    "from sklearn.model_selection import train_test_split\n",
    "from sklearn.naive_bayes import MultinomialNB\n",
    "from sklearn.ensemble import RandomForestClassifier\n",
    "from sklearn.svm import SVC\n",
    "from sklearn.metrics import accuracy_score\n",
    "from sklearn.feature_extraction.text import CountVectorizer\n",
    "\n",
    "# Load domain dataset\n",
    "domain_data = pd.read_csv(\"C:/Users/dell/OneDrive/Desktop/dataset/Book2.csv\")\n",
    "\n",
    "# Load sentiment dataset\n",
    "sentiment_data = pd.read_csv(\"cleaned_dataset.csv\")\n",
    "\n",
    "# Drop rows with missing values\n",
    "domain_data.dropna(inplace=True)\n",
    "sentiment_data.dropna(inplace=True)\n",
    "\n",
    "# Define feature extraction functions\n",
    "def extract_domain_features(text):\n",
    "    # Example: CountVectorizer\n",
    "    vectorizer = CountVectorizer()\n",
    "    X = vectorizer.fit_transform(text)\n",
    "    return X\n",
    "\n",
    "def extract_sentiment_features(text):\n",
    "    # Example: CountVectorizer\n",
    "    vectorizer = CountVectorizer()\n",
    "    X = vectorizer.fit_transform(text)\n",
    "    return X\n",
    "\n",
    "# Separate features and target variable for sentiment dataset\n",
    "X_sentiment = sentiment_data['Tweets']\n",
    "y_sentiment = sentiment_data['Sentiment']\n",
    "\n",
    "# Balance the sentiment dataset\n",
    "oversampler = RandomOverSampler()\n",
    "X_sentiment_balanced, y_sentiment_balanced = oversampler.fit_resample(X_sentiment.values.reshape(-1, 1), y_sentiment)\n",
    "\n",
    "# Separate features and target variable for domain dataset\n",
    "X_domain = domain_data['Tweets']\n",
    "y_domain = domain_data['Category']\n",
    "\n",
    "# Convert text data to numerical features\n",
    "vectorizer_sentiment = CountVectorizer()\n",
    "X_sentiment_vectorized = vectorizer_sentiment.fit_transform(X_sentiment_balanced.reshape(-1))\n",
    "\n",
    "vectorizer_domain = CountVectorizer()\n",
    "X_domain_vectorized = vectorizer_domain.fit_transform(X_domain)\n",
    "\n",
    "# Splitting sentiment data into training and testing sets\n",
    "X_train_sentiment, X_test_sentiment, y_train_sentiment, y_test_sentiment = train_test_split(X_sentiment_vectorized, y_sentiment_balanced, test_size=0.2, random_state=42)\n",
    "\n",
    "# Naive Bayes model for sentiment\n",
    "nb_model = MultinomialNB()\n",
    "nb_model.fit(X_train_sentiment, y_train_sentiment)\n",
    "nb_predictions_sentiment = nb_model.predict(X_test_sentiment)\n",
    "nb_accuracy_sentiment = accuracy_score(y_test_sentiment, nb_predictions_sentiment)\n",
    "print(\"Naive Bayes Accuracy (Sentiment):\", nb_accuracy_sentiment)\n",
    "\n",
    "# Random Forest model for sentiment\n",
    "rf_model_sentiment = RandomForestClassifier()\n",
    "rf_model_sentiment.fit(X_train_sentiment, y_train_sentiment)\n",
    "rf_predictions_sentiment = rf_model_sentiment.predict(X_test_sentiment)\n",
    "rf_accuracy_sentiment = accuracy_score(y_test_sentiment, rf_predictions_sentiment)\n",
    "print(\"Random Forest Accuracy (Sentiment):\", rf_accuracy_sentiment)\n",
    "\n",
    "# SVM model for sentiment\n",
    "svm_model = SVC()\n",
    "svm_model.fit(X_train_sentiment, y_train_sentiment)\n",
    "svm_predictions_sentiment = svm_model.predict(X_test_sentiment)\n",
    "svm_accuracy_sentiment = accuracy_score(y_test_sentiment, svm_predictions_sentiment)\n",
    "print(\"SVM Accuracy (Sentiment):\", svm_accuracy_sentiment)\n",
    "\n",
    "# Splitting domain data into training and testing sets\n",
    "X_train_domain, X_test_domain, y_train_domain, y_test_domain = train_test_split(X_domain_vectorized, y_domain, test_size=0.2, random_state=42)\n",
    "\n",
    "# Random Forest model for domain\n",
    "rf_model_domain = RandomForestClassifier()\n",
    "rf_model_domain.fit(X_train_domain, y_train_domain)\n",
    "rf_predictions_domain = rf_model_domain.predict(X_test_domain)\n",
    "rf_accuracy_domain = accuracy_score(y_test_domain, rf_predictions_domain)\n",
    "print(\"Random Forest Accuracy (Domain):\", rf_accuracy_domain)\n",
    "\n",
    "# Naive Bayes model for domain\n",
    "nb_model_domain = MultinomialNB()\n",
    "nb_model_domain.fit(X_train_domain, y_train_domain)\n",
    "nb_predictions_domain = nb_model_domain.predict(X_test_domain)\n",
    "nb_accuracy_domain = accuracy_score(y_test_domain, nb_predictions_domain)\n",
    "print(\"Naive Bayes Accuracy (Domain):\", nb_accuracy_domain)\n",
    "\n",
    "# SVM model for domain\n",
    "svm_model_domain = SVC()\n",
    "svm_model_domain.fit(X_train_domain, y_train_domain)\n",
    "svm_predictions_domain = svm_model_domain.predict(X_test_domain)\n",
    "svm_accuracy_domain = accuracy_score(y_test_domain, svm_predictions_domain)\n",
    "print(\"SVM Accuracy (Domain):\", svm_accuracy_domain)\n",
    "\n"
   ]
  },
  {
   "cell_type": "code",
   "execution_count": 57,
   "id": "e114b986",
   "metadata": {},
   "outputs": [],
   "source": [
    "def ensemble_predict(text):\n",
    "    # Extract sentiment features from the text using the pre-fitted vectorizer\n",
    "    sentiment_features = vectorizer_sentiment.transform([text])\n",
    "    \n",
    "    # Predict sentiment using the ensemble of models\n",
    "    nb_sentiment = tuple(nb_model.predict(sentiment_features))\n",
    "    rf_sentiment = tuple(rf_model_sentiment.predict(sentiment_features))\n",
    "    svm_sentiment = tuple(svm_model.predict(sentiment_features))\n",
    "\n",
    "    # Ensemble for sentiment prediction by taking majority vote\n",
    "    sentiment_prediction = max(set([nb_sentiment, rf_sentiment, svm_sentiment]), key = list([nb_sentiment, rf_sentiment, svm_sentiment]).count)\n",
    "    \n",
    "    # Extract domain features from the text using the pre-fitted vectorizer\n",
    "    domain_features = vectorizer_domain.transform([text])\n",
    "    \n",
    "    # Predict domain using the ensemble of models\n",
    "    rf_domain = tuple(rf_model_domain.predict(domain_features))\n",
    "    nb_domain = tuple(nb_model_domain.predict(domain_features))\n",
    "    svm_domain = tuple(svm_model_domain.predict(domain_features))\n",
    "\n",
    "    # Ensemble for domain prediction by taking majority vote\n",
    "    domain_prediction = max(set([rf_domain, nb_domain, svm_domain]), key = list([rf_domain, nb_domain, svm_domain]).count)\n",
    "\n",
    "    return domain_prediction, sentiment_prediction\n"
   ]
  },
  {
   "cell_type": "code",
   "execution_count": 54,
   "id": "1fb7e597",
   "metadata": {},
   "outputs": [
    {
     "name": "stdout",
     "output_type": "stream",
     "text": [
      "Enter the number of texts: 3\n",
      "Enter text 1: This film is one of the best film I have seen in my life.\n",
      "Predicted Sentiment: ('Positive',)\n",
      "Predicted Domain: ('cinema',)\n",
      "\n",
      "Enter text 2: The AI is the worst technology.\n",
      "Predicted Sentiment: ('Negative',)\n",
      "Predicted Domain: ('technology',)\n",
      "\n",
      "Enter text 3: Tennis match is so boring.\n",
      "Predicted Sentiment: ('Negative',)\n",
      "Predicted Domain: ('sports',)\n",
      "\n"
     ]
    }
   ],
   "source": [
    "# Get number of inputs from user\n",
    "n = int(input(\"Enter the number of texts: \"))\n",
    "\n",
    "# Get inputs from user and make predictions\n",
    "for i in range(n):\n",
    "    user_text = input(\"Enter text {}: \".format(i+1))\n",
    "    \n",
    "    # Make predictions using ensemble model\n",
    "    domain_pred, sentiment_pred = ensemble_predict(user_text)\n",
    "    \n",
    "    # Print the given tweet, predicted sentiment, and predicted domain\n",
    "    print(\"Predicted Sentiment:\", sentiment_pred)\n",
    "    print(\"Predicted Domain:\", domain_pred)\n",
    "    print()  # Print a blank line for better readability between inputs\n"
   ]
  },
  {
   "cell_type": "code",
   "execution_count": 24,
   "id": "f166acb3",
   "metadata": {},
   "outputs": [
    {
     "name": "stdout",
     "output_type": "stream",
     "text": [
      "Ensemble Domain Accuracy: 0.9396984924623115\n",
      "Ensemble Sentiment Accuracy: 0.9634861862717174\n"
     ]
    }
   ],
   "source": [
    "def ensemble_accuracy(y_true_domain, y_true_sentiment, domain_pred, sentiment_pred):\n",
    "   \n",
    "    # Calculate accuracy for domain prediction\n",
    "    domain_accuracy = accuracy_score(y_true_domain, domain_pred)\n",
    "\n",
    "    # Calculate accuracy for sentiment prediction\n",
    "    sentiment_accuracy = accuracy_score(y_true_sentiment, sentiment_pred)\n",
    "\n",
    "    return domain_accuracy, sentiment_accuracy\n",
    "\n",
    "# True labels for domain and sentiment\n",
    "y_true_domain = y_test_domain\n",
    "y_true_sentiment = y_test_sentiment\n",
    "\n",
    "# Predictions from ensemble model\n",
    "domain_pred, sentiment_pred = ensemble_predict(text)\n",
    "\n",
    "# Calculate accuracy\n",
    "domain_accuracy, sentiment_accuracy = ensemble_accuracy(y_test_domain, y_test_sentiment, rf_predictions_domain, rf_predictions_sentiment)\n",
    "\n",
    "print(\"Ensemble Domain Accuracy:\", domain_accuracy)\n",
    "print(\"Ensemble Sentiment Accuracy:\", sentiment_accuracy)\n",
    "\n"
   ]
  },
  {
   "cell_type": "code",
   "execution_count": 44,
   "id": "1a24da06",
   "metadata": {},
   "outputs": [
    {
     "name": "stdout",
     "output_type": "stream",
     "text": [
      "Ensemble Domain Classification Metrics:\n",
      "Accuracy: 0.949748743718593\n",
      "Precision: 0.9495877656681676\n",
      "Recall: 0.949748743718593\n",
      "F1-score: 0.9496329486454287\n",
      "Classification Report for Domain Classification:\n",
      "              precision    recall  f1-score   support\n",
      "\n",
      "      cinema       0.94      0.93      0.93        67\n",
      "      sports       0.94      0.94      0.94        63\n",
      "  technology       0.97      0.99      0.98        69\n",
      "\n",
      "    accuracy                           0.95       199\n",
      "   macro avg       0.95      0.95      0.95       199\n",
      "weighted avg       0.95      0.95      0.95       199\n",
      "\n",
      "\n",
      "Ensemble Sentiment Classification Metrics:\n",
      "Accuracy: 0.9335801765878667\n",
      "Precision: 0.9347886691918005\n",
      "Recall: 0.9335801765878667\n",
      "F1-score: 0.9334193279561557\n",
      "Classification Report for Sentiment Classification:\n",
      "              precision    recall  f1-score   support\n",
      "\n",
      "    Negative       0.92      0.96      0.94      5877\n",
      "     Neutral       0.97      0.89      0.93      5756\n",
      "    Positive       0.92      0.96      0.94      5922\n",
      "\n",
      "    accuracy                           0.93     17555\n",
      "   macro avg       0.94      0.93      0.93     17555\n",
      "weighted avg       0.93      0.93      0.93     17555\n",
      "\n"
     ]
    }
   ],
   "source": [
    "from sklearn.metrics import classification_report, precision_score, recall_score, f1_score\n",
    "\n",
    "# Combine predictions from all models for domain classification\n",
    "ensemble_predictions_domain = [rf_predictions_domain, nb_predictions_domain, svm_predictions_domain]\n",
    "# Ensemble prediction for domain by taking majority vote\n",
    "ensemble_prediction_domain = [max(set(predictions), key=predictions.count) for predictions in zip(*ensemble_predictions_domain)]\n",
    "\n",
    "# Combine predictions from all models for sentiment classification\n",
    "ensemble_predictions_sentiment = [rf_predictions_sentiment, nb_predictions_sentiment, svm_predictions_sentiment]\n",
    "# Ensemble prediction for sentiment by taking majority vote\n",
    "ensemble_prediction_sentiment = [max(set(predictions), key=predictions.count) for predictions in zip(*ensemble_predictions_sentiment)]\n",
    "\n",
    "# Compute accuracy for ensemble domain classification\n",
    "ensemble_accuracy_domain = accuracy_score(y_test_domain, ensemble_prediction_domain)\n",
    "# Compute precision, recall, and F1-score for ensemble domain classification\n",
    "precision_domain = precision_score(y_test_domain, ensemble_prediction_domain, average='weighted')\n",
    "recall_domain = recall_score(y_test_domain, ensemble_prediction_domain, average='weighted')\n",
    "f1_domain = f1_score(y_test_domain, ensemble_prediction_domain, average='weighted')\n",
    "\n",
    "# Compute accuracy for ensemble sentiment classification\n",
    "ensemble_accuracy_sentiment = accuracy_score(y_test_sentiment, ensemble_prediction_sentiment)\n",
    "# Compute precision, recall, and F1-score for ensemble sentiment classification\n",
    "precision_sentiment = precision_score(y_test_sentiment, ensemble_prediction_sentiment, average='weighted')\n",
    "recall_sentiment = recall_score(y_test_sentiment, ensemble_prediction_sentiment, average='weighted')\n",
    "f1_sentiment = f1_score(y_test_sentiment, ensemble_prediction_sentiment, average='weighted')\n",
    "\n",
    "# Print evaluation metrics for the ensemble\n",
    "print(\"Ensemble Domain Classification Metrics:\")\n",
    "print(\"Accuracy:\", ensemble_accuracy_domain)\n",
    "print(\"Precision:\", precision_domain)\n",
    "print(\"Recall:\", recall_domain)\n",
    "print(\"F1-score:\", f1_domain)\n",
    "print(\"Classification Report for Domain Classification:\")\n",
    "print(classification_report(y_test_domain, ensemble_prediction_domain))\n",
    "\n",
    "print(\"\\nEnsemble Sentiment Classification Metrics:\")\n",
    "print(\"Accuracy:\", ensemble_accuracy_sentiment)\n",
    "print(\"Precision:\", precision_sentiment)\n",
    "print(\"Recall:\", recall_sentiment)\n",
    "print(\"F1-score:\", f1_sentiment)\n",
    "print(\"Classification Report for Sentiment Classification:\")\n",
    "print(classification_report(y_test_sentiment, ensemble_prediction_sentiment))\n"
   ]
  },
  {
   "cell_type": "code",
   "execution_count": null,
   "id": "b46d3713",
   "metadata": {},
   "outputs": [],
   "source": []
  },
  {
   "cell_type": "code",
   "execution_count": null,
   "id": "be61123c",
   "metadata": {},
   "outputs": [],
   "source": []
  },
  {
   "cell_type": "code",
   "execution_count": null,
   "id": "fa2e128c",
   "metadata": {},
   "outputs": [],
   "source": []
  },
  {
   "cell_type": "code",
   "execution_count": 26,
   "id": "1add570b",
   "metadata": {},
   "outputs": [
    {
     "name": "stdout",
     "output_type": "stream",
     "text": [
      "Sentiment ensemble model and domain model saved successfully.\n"
     ]
    }
   ],
   "source": [
    "import joblib\n",
    "\n",
    "# Saving the sentiment ensemble model\n",
    "joblib.dump((nb_model, rf_model_sentiment, svm_model, vectorizer_sentiment), 'sentiment_ensemble_model.pkl')\n",
    "\n",
    "# Saving the domain model\n",
    "joblib.dump((rf_model_domain, vectorizer_domain), 'domain_model.pkl')\n",
    "\n",
    "print(\"Sentiment ensemble model and domain model saved successfully.\")\n"
   ]
  },
  {
   "cell_type": "code",
   "execution_count": null,
   "id": "4604016e",
   "metadata": {},
   "outputs": [],
   "source": []
  },
  {
   "cell_type": "code",
   "execution_count": 55,
   "id": "931266d7",
   "metadata": {},
   "outputs": [
    {
     "name": "stdout",
     "output_type": "stream",
     "text": [
      "Sentiment ensemble model and domain ensemble model saved successfully.\n"
     ]
    }
   ],
   "source": [
    "import joblib\n",
    "\n",
    "# Saving the sentiment ensemble model\n",
    "joblib.dump((nb_model, rf_model_sentiment, svm_model, vectorizer_sentiment), 'sentiment_ensemble_model.pkl')\n",
    "\n",
    "# Saving the domain ensemble model\n",
    "joblib.dump((nb_model_domain, svm_model_domain, rf_model_domain, vectorizer_domain), 'domain_ensemble_model.pkl')\n",
    "\n",
    "print(\"Sentiment ensemble model and domain ensemble model saved successfully.\")\n"
   ]
  },
  {
   "cell_type": "code",
   "execution_count": null,
   "id": "a9d0680f",
   "metadata": {},
   "outputs": [],
   "source": []
  },
  {
   "cell_type": "code",
   "execution_count": null,
   "id": "2cf874d3",
   "metadata": {},
   "outputs": [],
   "source": []
  },
  {
   "cell_type": "code",
   "execution_count": null,
   "id": "a2aec717",
   "metadata": {},
   "outputs": [],
   "source": []
  },
  {
   "cell_type": "code",
   "execution_count": null,
   "id": "34174de0",
   "metadata": {},
   "outputs": [],
   "source": []
  },
  {
   "cell_type": "code",
   "execution_count": null,
   "id": "093ed992",
   "metadata": {},
   "outputs": [],
   "source": []
  },
  {
   "cell_type": "code",
   "execution_count": null,
   "id": "a8baf18e",
   "metadata": {},
   "outputs": [],
   "source": []
  },
  {
   "cell_type": "code",
   "execution_count": null,
   "id": "11ccdf8b",
   "metadata": {},
   "outputs": [],
   "source": []
  },
  {
   "cell_type": "code",
   "execution_count": null,
   "id": "de2477d8",
   "metadata": {},
   "outputs": [],
   "source": []
  },
  {
   "cell_type": "code",
   "execution_count": null,
   "id": "9f1cc865",
   "metadata": {},
   "outputs": [],
   "source": []
  },
  {
   "cell_type": "code",
   "execution_count": null,
   "id": "2961ff18",
   "metadata": {},
   "outputs": [],
   "source": []
  },
  {
   "cell_type": "code",
   "execution_count": null,
   "id": "7d15b576",
   "metadata": {},
   "outputs": [],
   "source": []
  },
  {
   "cell_type": "code",
   "execution_count": null,
   "id": "05895953",
   "metadata": {},
   "outputs": [],
   "source": []
  }
 ],
 "metadata": {
  "kernelspec": {
   "display_name": "Python 3 (ipykernel)",
   "language": "python",
   "name": "python3"
  },
  "language_info": {
   "codemirror_mode": {
    "name": "ipython",
    "version": 3
   },
   "file_extension": ".py",
   "mimetype": "text/x-python",
   "name": "python",
   "nbconvert_exporter": "python",
   "pygments_lexer": "ipython3",
   "version": "3.11.4"
  }
 },
 "nbformat": 4,
 "nbformat_minor": 5
}
